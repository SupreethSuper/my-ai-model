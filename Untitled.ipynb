{
 "cells": [
  {
   "cell_type": "code",
   "execution_count": 2,
   "id": "44249ddb",
   "metadata": {},
   "outputs": [],
   "source": [
    "#bourbon, oreo"
   ]
  },
  {
   "cell_type": "code",
   "execution_count": 13,
   "id": "7cd6f480",
   "metadata": {},
   "outputs": [
    {
     "name": "stdout",
     "output_type": "stream",
     "text": [
      "on a scale of 1 - 10, how much do you like the cream of bourbon 2\n",
      "on a scale of 1 - 10, how much do you like the cream of white oreo 6\n",
      "on a scale of 1 - 10, how much do you like the cream of black oreo 5\n",
      "on a scale of 1 - 10, how much do you like the crunchiness of bourbon 3\n",
      "on a scale of 1 - 10, how much do you like the crunchiness of oreo 2\n",
      "on a scale of 1 - 10, how much do you like the taste of dipped bourbon in milk 1.5\n",
      "on a scale of 1 - 10, how much do you like the taste of dipped white cream oreo in milk 9\n",
      "on a scale of 1 - 10, how much do you like the taste of dipped black cream oreo in milk 6\n",
      "given oreo and bourbon , which would you choose, type 'anything' if you are ok with bothanything\n",
      "you may like the white cream oreo\n"
     ]
    }
   ],
   "source": [
    "cream_bourbon = float(input(\"on a scale of 1 - 10, how much do you like the cream of bourbon \"))\n",
    "cream_oreo_white = float(input(\"on a scale of 1 - 10, how much do you like the cream of white oreo \"))\n",
    "cream_oreo_black = float(input(\"on a scale of 1 - 10, how much do you like the cream of black oreo \"))\n",
    "crunchiness_bourbon = float(input(\"on a scale of 1 - 10, how much do you like the crunchiness of bourbon \"))\n",
    "crunchiness_oreo = float(input(\"on a scale of 1 - 10, how much do you like the crunchiness of oreo \"))\n",
    "taste_with_milk_bourbon = float(input(\"on a scale of 1 - 10, how much do you like the taste of dipped bourbon in milk \"))\n",
    "taste_with_milk_oreo_white = float(input(\"on a scale of 1 - 10, how much do you like the taste of dipped white cream oreo in milk \"))\n",
    "taste_with_milk_oreo_black = float(input(\"on a scale of 1 - 10, how much do you like the taste of dipped black cream oreo in milk \"))\n",
    "choice_by_user = input(\"given oreo and bourbon , which would you choose, type 'anything' if you are ok with both \").lower()\n",
    "if (cream_bourbon or cream_oreo_white or cream_oreo_black)\n",
    "\n",
    "if choice_by_user == \"oreo\":\n",
    "    oreo = 1.5\n",
    "    bourbon = 1\n",
    "elif choice_by_user == \"bourbon\":\n",
    "    oreo =1\n",
    "    bourbon = 1.5\n",
    "elif choice_by_user == \"anything\":\n",
    "    oreo = bourbon = 1\n",
    "else:\n",
    "    print(\"you may have made a spelling mistake\")\n",
    "    \n",
    "\n",
    "oreo_white = (oreo * cream_oreo_white) + (oreo * crunchiness_oreo) + (oreo * taste_with_milk_oreo_white) \n",
    "oreo_black = (oreo * cream_oreo_black) + (oreo * crunchiness_oreo) + (oreo * taste_with_milk_oreo_black)\n",
    "bourbon = (bourbon * cream_bourbon) + (bourbon* cream_bourbon) + (bourbon * taste_with_milk_bourbon)\n",
    "if oreo_white > oreo_black :\n",
    "    if oreo_white > bourbon:\n",
    "        print(\"you may like the white cream oreo\")\n",
    "    else:\n",
    "        print(\"you may like bourbon\")\n",
    "else:\n",
    "    if oreo_black > bourbon:\n",
    "        print(\"you may like black cream oreo\")\n",
    "    else:\n",
    "        print(\"you may like bourbon\")\n",
    "\n"
   ]
  }
 ],
 "metadata": {
  "kernelspec": {
   "display_name": "Python 3 (ipykernel)",
   "language": "python",
   "name": "python3"
  },
  "language_info": {
   "codemirror_mode": {
    "name": "ipython",
    "version": 3
   },
   "file_extension": ".py",
   "mimetype": "text/x-python",
   "name": "python",
   "nbconvert_exporter": "python",
   "pygments_lexer": "ipython3",
   "version": "3.9.7"
  }
 },
 "nbformat": 4,
 "nbformat_minor": 5
}
